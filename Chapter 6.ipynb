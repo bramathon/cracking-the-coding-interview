{
 "cells": [
  {
   "cell_type": "markdown",
   "metadata": {},
   "source": [
    "## Chapter 6: Math and Logic Puzzles\n",
    "6th ed"
   ]
  },
  {
   "cell_type": "markdown",
   "metadata": {},
   "source": [
    "**6.1 The Heavy Pill:** You have 20 bottles of pills. 19 bottles have 1.0 gram pills, but one has pills of weight\n",
    "1.1 grams. Given a scale that provides an exact measurement, how would you find the heavy bottle?\n",
    "You can only use the scale once.\n"
   ]
  },
  {
   "cell_type": "code",
   "execution_count": null,
   "metadata": {},
   "outputs": [],
   "source": []
  },
  {
   "cell_type": "markdown",
   "metadata": {},
   "source": [
    "**6.2 Basketball:** You have a basketball hoop and someone says that you can play one of two games.\n",
    "\n",
    "Game 1: You get one shot to make the hoop.\n",
    "\n",
    "Game 2: You get three shots and you have to make two of three shots.\n",
    "\n",
    "If p is the probability of making a particular shot, for which values of p should you pick one game\n",
    "or the other?\n"
   ]
  },
  {
   "cell_type": "code",
   "execution_count": null,
   "metadata": {},
   "outputs": [],
   "source": []
  },
  {
   "cell_type": "markdown",
   "metadata": {},
   "source": [
    "**6.3 Dominos:** There is an 8x8 chessboard in which two diagonally opposite corners have been cut off.\n",
    "You are given 31 dominos, and a single domino can cover exactly two squares. Can you use the 31\n",
    "dominos to cover the entire board? Prove your answer (by providing an example or showing why\n",
    "it's impossible).\n"
   ]
  },
  {
   "cell_type": "code",
   "execution_count": null,
   "metadata": {},
   "outputs": [],
   "source": []
  },
  {
   "cell_type": "markdown",
   "metadata": {},
   "source": [
    "**6.4 Ants on a Triangle:** There are three ants on different vertices of a triangle. What is the probability of\n",
    "collision (between any two or all of them) if they start walking on the sides of the triangle? Assume\n",
    "that each ant randomly picks a direction, with either direction being equally likely to be chosen, and\n",
    "that they walk at the same speed.\n",
    "\n",
    "Similarly, find the probability of collision with n ants on an n-vertex polygon.\n"
   ]
  },
  {
   "cell_type": "code",
   "execution_count": null,
   "metadata": {},
   "outputs": [],
   "source": []
  },
  {
   "cell_type": "markdown",
   "metadata": {},
   "source": [
    "**6.5 Jugs of Water:** You have a five-quart jug, a three-quart jug, and an unlimited supply of water (but\n",
    "no measuring cups). How would you come up with exactly four quarts of water? Note that the jugs\n",
    "are oddly shaped, such that filling up exactly \"half\" of the jug would be impossible.\n"
   ]
  },
  {
   "cell_type": "code",
   "execution_count": null,
   "metadata": {},
   "outputs": [],
   "source": []
  },
  {
   "cell_type": "markdown",
   "metadata": {},
   "source": [
    "**6.6 Blue-Eyed Island:** A bunch of people are living on an island, when a visitor comes with a strange\n",
    "order: all blue-eyed people must leave the island as soon as possible. There will be a flight out at\n",
    "8:00 pm every evening. Each person can see everyone else's eye color, but they do not know their\n",
    "own (nor is anyone allowed to tell them). Additionally, they do not know how many people have\n",
    "blue eyes, although they do know that at least one person does. How many days will it take the\n",
    "blue-eyed people to leave?\n"
   ]
  },
  {
   "cell_type": "code",
   "execution_count": null,
   "metadata": {},
   "outputs": [],
   "source": []
  },
  {
   "cell_type": "markdown",
   "metadata": {},
   "source": []
  }
 ],
 "metadata": {
  "kernelspec": {
   "display_name": "Python 3",
   "language": "python",
   "name": "python3"
  },
  "language_info": {
   "codemirror_mode": {
    "name": "ipython",
    "version": 3
   },
   "file_extension": ".py",
   "mimetype": "text/x-python",
   "name": "python",
   "nbconvert_exporter": "python",
   "pygments_lexer": "ipython3",
   "version": "3.7.3"
  }
 },
 "nbformat": 4,
 "nbformat_minor": 4
}
