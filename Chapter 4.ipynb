{
 "cells": [
  {
   "cell_type": "markdown",
   "metadata": {},
   "source": [
    "## Chapter 4: Trees and Graphs\n",
    "Using 6th edition for this one. Would prefer to do this in lisp since it's much more natural"
   ]
  },
  {
   "cell_type": "code",
   "execution_count": 20,
   "metadata": {},
   "outputs": [],
   "source": [
    "# A bit of setup\n",
    "\n",
    "\n",
    "\n"
   ]
  },
  {
   "cell_type": "markdown",
   "metadata": {},
   "source": [
    "**4.1: Route Between Nodes:** Given a directed graph, design an algorithm to find out whether there is a\n",
    "route between two nodes.\n"
   ]
  },
  {
   "cell_type": "code",
   "execution_count": 39,
   "metadata": {},
   "outputs": [
    {
     "name": "stdout",
     "output_type": "stream",
     "text": [
      "False\n",
      "True\n"
     ]
    }
   ],
   "source": [
    "from collections import deque\n",
    "\n",
    "# For trees and graphs we will use dictionaries and lists\n",
    "\n",
    "# eg. a simple directed graph can be represented as:\n",
    "graph = {'A': ['B', 'C'],\n",
    "         'B': ['C', 'D'],\n",
    "         'C': ['D'],\n",
    "         'D': ['B','C'],\n",
    "         'E': ['F'],\n",
    "         'F': ['C','G','B'],\n",
    "         'G': ['A','C','E']}\n",
    "\n",
    "def path_exists (graph,n1,n2):\n",
    "    # breadth first\n",
    "    queue = deque()\n",
    "    visited_nodes = set()\n",
    "    \n",
    "    queue.append(n1)\n",
    "    visited_nodes.add(n1)\n",
    "    n1_neighbours = graph[n1]\n",
    "    \n",
    "    while queue:\n",
    "        node = queue.popleft()\n",
    "        for n in graph[node]:\n",
    "            if n == n2:\n",
    "                return True\n",
    "            elif n not in visited_nodes:\n",
    "                visited_nodes.add(n)\n",
    "                queue.append(n)\n",
    "    return False\n",
    "                \n",
    "print(path_exists(graph,'A','G'))\n",
    "print(path_exists(graph,'A','D'))"
   ]
  },
  {
   "cell_type": "markdown",
   "metadata": {},
   "source": [
    "**4.2 Minimal Tree:** Given a sorted (increasing order) array with unique integer elements, write an algorithm to create a binary search tree with minimal height."
   ]
  },
  {
   "cell_type": "code",
   "execution_count": 38,
   "metadata": {},
   "outputs": [
    {
     "name": "stdout",
     "output_type": "stream",
     "text": [
      "13\n",
      "├── 6\n",
      "│   ├── 3\n",
      "│   │   ├── 1\n",
      "│   │   │   ├── 0\n",
      "│   │   │   └── 2\n",
      "│   │   └── 5\n",
      "│   │       └── 4\n",
      "│   └── 10\n",
      "│       ├── 8\n",
      "│       │   ├── 7\n",
      "│       │   └── 9\n",
      "│       └── 12\n",
      "│           └── 11\n",
      "└── 20\n",
      "    ├── 17\n",
      "    │   ├── 15\n",
      "    │   │   ├── 14\n",
      "    │   │   └── 16\n",
      "    │   └── 19\n",
      "    │       └── 18\n",
      "    └── 23\n",
      "        ├── 22\n",
      "        │   └── 21\n",
      "        └── 25\n",
      "            └── 24\n"
     ]
    }
   ],
   "source": [
    "import numpy as np\n",
    "from anytree import Node, RenderTree\n",
    "\n",
    "arr = [i for i in range(26)]\n",
    "\n",
    "def create_binary_tree (arr):\n",
    "    if not arr:\n",
    "        return None\n",
    "    node_idx = int(len(arr)/2)\n",
    "    node = Node(arr[node_idx])\n",
    "    left = create_binary_tree(arr[0:node_idx])\n",
    "    right = create_binary_tree(arr[node_idx+1:])\n",
    "    childrens = []\n",
    "    if left:\n",
    "        childrens.append(left)\n",
    "    if right:\n",
    "        childrens.append(right)\n",
    "    if childrens:\n",
    "        node.children = childrens\n",
    "    return node\n",
    "    \n",
    "tree = create_binary_tree(arr)\n",
    "for pre, fill, node in RenderTree(tree):\n",
    "    print(\"%s%s\" % (pre, node.name))"
   ]
  },
  {
   "cell_type": "markdown",
   "metadata": {},
   "source": [
    "**4.3 List of Depths:** Given a binary tree, design an algorithm which creates a linked list of all the nodes at each depth (e.g., if you have a tree with depth D, you'll have D linked lists).\n"
   ]
  },
  {
   "cell_type": "code",
   "execution_count": 68,
   "metadata": {},
   "outputs": [
    {
     "name": "stdout",
     "output_type": "stream",
     "text": [
      "[[13], [6, 20], [3, 10, 17, 23], [1, 5, 8, 12, 15, 19, 22, 25], [0, 2, 4, 7, 9, 11, 14, 16, 18, 21, 24]]\n"
     ]
    },
    {
     "data": {
      "text/plain": [
       "[[13],\n",
       " [6, 20],\n",
       " [3, 10, 17, 23],\n",
       " [1, 5, 8, 12, 15, 19, 22, 25],\n",
       " [0, 2, 4, 7, 9, 11, 14, 16, 18, 21, 24]]"
      ]
     },
     "execution_count": 68,
     "metadata": {},
     "output_type": "execute_result"
    }
   ],
   "source": [
    "# use the tree from the last question\n",
    "# we are just going to imagine that our list structure is a linked list\n",
    "\n",
    "def list_of_depths (nodes):\n",
    "    lists = []\n",
    "    while nodes:\n",
    "        lists.append(nodes)\n",
    "        childrens = []\n",
    "        for n in nodes:\n",
    "            children = list(n.children)\n",
    "            childrens += children\n",
    "        nodes = childrens\n",
    "    return [[l.name for l in ll] for ll in lists]\n",
    "\n",
    "print(list_of_depths([tree]))\n",
    "\n",
    "# or, using anytree\n",
    "\n",
    "from anytree import LevelOrderGroupIter\n",
    "[[node.name for node in children] for children in LevelOrderGroupIter(tree)]"
   ]
  },
  {
   "cell_type": "markdown",
   "metadata": {},
   "source": [
    "**4.4 Check Balanced:** Implement a function to check if a binary tree is balanced. For the purposes of\n",
    "this question, a balanced tree is defined to be a tree such that the heights of the two subtrees of any\n",
    "node never differ by more than one."
   ]
  },
  {
   "cell_type": "code",
   "execution_count": null,
   "metadata": {},
   "outputs": [],
   "source": []
  },
  {
   "cell_type": "markdown",
   "metadata": {},
   "source": [
    "**4.5 Validate BST:** Implement a function to check if a binary tree is a binary search tree.\n"
   ]
  },
  {
   "cell_type": "code",
   "execution_count": null,
   "metadata": {},
   "outputs": [],
   "source": []
  },
  {
   "cell_type": "markdown",
   "metadata": {},
   "source": [
    "**4.6 Successor:** Write an algorithm to find the \"next\" node (i.e., in-order successor) of a given node in a\n",
    "binary search tree. You may assume that each node has a link to its parent.\n"
   ]
  },
  {
   "cell_type": "code",
   "execution_count": null,
   "metadata": {},
   "outputs": [],
   "source": []
  },
  {
   "cell_type": "markdown",
   "metadata": {},
   "source": [
    "**4.7 Build Order:** You are given a list of projects and a list of dependencies (which is a list of pairs of\n",
    "projects, where the second project is dependent on the first project). All of a project's dependencies\n",
    "must be built before the project is. Find a build order that will allow the projects to be built. If there\n",
    "is no valid build order, return an error.\n",
    "\n",
    "EXAMPLE\n",
    "\n",
    "Input:\n",
    "\n",
    "projects: a, b, c, d, e, f\n",
    "\n",
    "dependencies: (a, d), (f, b), (b, d), (f, a), (d, c)\n",
    "\n",
    "Output: f, e, a, b, d, c\n"
   ]
  },
  {
   "cell_type": "code",
   "execution_count": null,
   "metadata": {},
   "outputs": [],
   "source": []
  },
  {
   "cell_type": "markdown",
   "metadata": {},
   "source": [
    "**4.8 First Common Ancestor:** Design an algorithm and write code to find the first common ancestor\n",
    "of two nodes in a binary tree. Avoid storing additional nodes in a data structure. NOTE: This is not\n",
    "necessarily a binary search tree.\n"
   ]
  },
  {
   "cell_type": "code",
   "execution_count": null,
   "metadata": {},
   "outputs": [],
   "source": []
  },
  {
   "cell_type": "markdown",
   "metadata": {},
   "source": [
    "**4.9 BST Sequences:** A binary search tree was created by traversing through an array from left to right\n",
    "and inserting each element. Given a binary search tree with distinct elements, print all possible\n",
    "arrays that could have led to this tree.\n",
    "\n",
    "EXAMPLE\n",
    "\n",
    "Input:\n",
    "\n",
    "![alt text](4.8.png \"Title\")\n",
    "\n",
    "Output: {2, 1, 3}, {2, 3, 1}"
   ]
  },
  {
   "cell_type": "code",
   "execution_count": null,
   "metadata": {},
   "outputs": [],
   "source": []
  },
  {
   "cell_type": "markdown",
   "metadata": {},
   "source": [
    "**4.10 Check Subtree:** Tl and T2 are two very large binary trees, with Tl much bigger than T2. Create an\n",
    "algorithm to determine if T2 is a subtree of Tl.\n",
    "A tree T2 is a subtree of Tl if there exists a node n in Tl such that the subtree of n is identical to T2.\n",
    "That is, if you cut off the tree at node n, the two trees would be identical.\n"
   ]
  },
  {
   "cell_type": "code",
   "execution_count": null,
   "metadata": {},
   "outputs": [],
   "source": []
  },
  {
   "cell_type": "markdown",
   "metadata": {},
   "source": [
    "**4.11 Random Node:** You are implementing a binary tree class from scratch which, in addition to\n",
    "insert, find, and delete, has a method getRandomNode() which returns a random node\n",
    "from the tree. All nodes should be equally likely to be chosen. Design and implement an algorithm\n",
    "for getRandomNode, and explain how you would implement the rest of the methods.\n"
   ]
  },
  {
   "cell_type": "code",
   "execution_count": null,
   "metadata": {},
   "outputs": [],
   "source": []
  },
  {
   "cell_type": "markdown",
   "metadata": {},
   "source": [
    "**4.12 Paths with Sum:** You are given a binary tree in which each node contains an integer value (which\n",
    "might be positive or negative). Design an algorithm to count the number of paths that sum to a\n",
    "given value. The path does not need to start or end at the root or a leaf, but it must go downwards\n",
    "(traveling only from parent nodes to child nodes).\n"
   ]
  },
  {
   "cell_type": "code",
   "execution_count": null,
   "metadata": {},
   "outputs": [],
   "source": []
  }
 ],
 "metadata": {
  "kernelspec": {
   "display_name": "Python 3",
   "language": "python",
   "name": "python3"
  },
  "language_info": {
   "codemirror_mode": {
    "name": "ipython",
    "version": 3
   },
   "file_extension": ".py",
   "mimetype": "text/x-python",
   "name": "python",
   "nbconvert_exporter": "python",
   "pygments_lexer": "ipython3",
   "version": "3.7.3"
  }
 },
 "nbformat": 4,
 "nbformat_minor": 4
}
