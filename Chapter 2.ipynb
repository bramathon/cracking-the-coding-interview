{
 "cells": [
  {
   "cell_type": "markdown",
   "metadata": {},
   "source": [
    "## Chapter 2: Linked Lists\n",
    "\n",
    "A linked list is just a lisp-style list (so a series of cons cells). Doesn't seem to be a commonly-used concept in python.\n",
    "\n",
    "There is also something called a doubly-linked list. This is where each element contains three parts. A link to the previous cell, the value and a link to the next cell. Haven't encountered this before in lisp or python\n",
    "\n",
    "I would prefer to do this in lisp since linked lists are the native data structure. Need to figure out how to get a lisp kernel for jupyter. Will probably skip this for now. That said lots of fun recursive functions here.\n"
   ]
  },
  {
   "cell_type": "markdown",
   "metadata": {},
   "source": [
    "2.1 Write Code to remove duplicatesfrom an unsorted linked list.\n",
    "\n",
    "FOLLOW UP\n",
    "\n",
    "How would you solve this problem if a temporary buffer is not allowed"
   ]
  },
  {
   "cell_type": "markdown",
   "metadata": {},
   "source": [
    "2.2 Implement and algorithm to find the kth to last element of singly linked list"
   ]
  },
  {
   "cell_type": "markdown",
   "metadata": {},
   "source": [
    "2.3 Implement an algorithm to delete a node in the middle of a singly linked list, given only access to that node."
   ]
  },
  {
   "cell_type": "markdown",
   "metadata": {},
   "source": [
    "2.4 Write code to partition a linked list around a value x, such that all nodes less than x come before all nodes greater than or equal to x"
   ]
  },
  {
   "cell_type": "markdown",
   "metadata": {},
   "source": [
    "2.5 You have two numbers represented by a linked list, where each node contains a single digit. The digits are stored in reverse order, such that the 1's digit is at the head of the list. Write a function that adds the two numbers are returns the sum as a linked list."
   ]
  },
  {
   "cell_type": "markdown",
   "metadata": {},
   "source": [
    "2.6 Givena circular linked list, implement an algorithm which returns the node at the beginning of the loop"
   ]
  },
  {
   "cell_type": "markdown",
   "metadata": {},
   "source": [
    "2.7 Implement a function to check if a linked list is a palindrome."
   ]
  },
  {
   "cell_type": "code",
   "execution_count": null,
   "metadata": {},
   "outputs": [],
   "source": []
  }
 ],
 "metadata": {
  "kernelspec": {
   "display_name": "Python 3",
   "language": "python",
   "name": "python3"
  },
  "language_info": {
   "codemirror_mode": {
    "name": "ipython",
    "version": 3
   },
   "file_extension": ".py",
   "mimetype": "text/x-python",
   "name": "python",
   "nbconvert_exporter": "python",
   "pygments_lexer": "ipython3",
   "version": "3.7.3"
  }
 },
 "nbformat": 4,
 "nbformat_minor": 4
}
