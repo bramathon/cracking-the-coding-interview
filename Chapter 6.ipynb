{
 "cells": [
  {
   "cell_type": "markdown",
   "metadata": {},
   "source": [
    "## Chapter 6: Math and Logic Puzzles\n",
    "6th ed"
   ]
  },
  {
   "cell_type": "markdown",
   "metadata": {},
   "source": [
    "**6.1 The Heavy Pill:** You have 20 bottles of pills. 19 bottles have 1.0 gram pills, but one has pills of weight\n",
    "1.1 grams. Given a scale that provides an exact measurement, how would you find the heavy bottle?\n",
    "You can only use the scale once.\n"
   ]
  },
  {
   "cell_type": "code",
   "execution_count": 16,
   "metadata": {},
   "outputs": [
    {
     "name": "stdout",
     "output_type": "stream",
     "text": [
      "Special Bottle is number 3\n",
      "Measured Weight: 210.3\n",
      "Sepcial bottle is #3\n"
     ]
    }
   ],
   "source": [
    "# Remove one pill from bottle #1, two pills from bottle #2 and so forth.\n",
    "# need to assume that the bottles have > 20 pills\n",
    "# weigh the pills\n",
    "\n",
    "# expected weight is b*(b/2 +1)\n",
    "# additional weight will be 0.1*bn\n",
    "# so, take the weight, subtract expected weight and multiple by 10\n",
    "\n",
    "# careful with the indexing here\n",
    "\n",
    "from numpy.random import randint\n",
    "num_bottles = 20\n",
    "special_bottle = randint(1,num_bottles+1)\n",
    "\n",
    "print(\"Special Bottle is number {}\".format(special_bottle))\n",
    "\n",
    "expected_weight = num_bottles*((num_bottles+1)/2)\n",
    "measured_weight = sum([b if b != special_bottle else b*1.1 for b in range(1,num_bottles+1)])\n",
    "\n",
    "print(\"Measured Weight: {}\".format(measured_weight))\n",
    "\n",
    "bottle = int((measured_weight - expected_weight)*10)\n",
    "\n",
    "print(\"Sepcial bottle is #{}\".format(bottle))\n",
    "\n",
    "\n",
    "        "
   ]
  },
  {
   "cell_type": "markdown",
   "metadata": {},
   "source": [
    "**6.2 Basketball:** You have a basketball hoop and someone says that you can play one of two games.\n",
    "\n",
    "Game 1: You get one shot to make the hoop.\n",
    "\n",
    "Game 2: You get three shots and you have to make two of three shots.\n",
    "\n",
    "If p is the probability of making a particular shot, for which values of p should you pick one game\n",
    "or the other?\n"
   ]
  },
  {
   "cell_type": "markdown",
   "metadata": {},
   "source": [
    "for game 1. the success probability is $p$\n",
    "\n",
    "for game 2, the probability is $3(p)(p)(1-p) + p^3$ (3 way to make two shots and miss one, 1 way to make 3)\n",
    "\n",
    "so, if $p < 3p^2-2p^3$, take game 2. Otherwise game 1\n",
    "\n",
    "we can get a bit more precise by factoring the inequality\n",
    "\n",
    "$ p < 3p^2 - 2p^3 $\n",
    "\n",
    "$ 2p^2 - 3p +1 < 0$\n",
    "\n",
    "$ (2p - 1)(p - 1) < 0$\n",
    "\n",
    "This inequality is true so long as p is between 0.5 and 1\n"
   ]
  },
  {
   "cell_type": "markdown",
   "metadata": {},
   "source": [
    "**6.3 Dominos:** There is an 8x8 chessboard in which two diagonally opposite corners have been cut off.\n",
    "You are given 31 dominos, and a single domino can cover exactly two squares. Can you use the 31\n",
    "dominos to cover the entire board? Prove your answer (by providing an example or showing why\n",
    "it's impossible).\n"
   ]
  },
  {
   "cell_type": "markdown",
   "metadata": {},
   "source": [
    "First, I did a 4x4 example which suggests it is impossible. But why? (it's helpful to know the answer before reasoning)\n",
    "\n",
    "* To fill up the first column, we need an odd number of horizontal blocks. The horizontal block will poke into an even row\n",
    "* To fill up the second column, we need an even number of horizontal blocks, the horizontal block will poke into an odd row\n",
    "* To fill an odd column, we need an even number of horizontal blocks, which will poke into an even row\n",
    "* To fill the last column (which is odd), we need an odd number of horizontal blocks, which poke into even rows.\n",
    "* However, the last column cannot be filled because it requires a horizontal block poking into an odd row"
   ]
  },
  {
   "cell_type": "markdown",
   "metadata": {},
   "source": [
    "**6.4 Ants on a Triangle:** There are three ants on different vertices of a triangle. What is the probability of\n",
    "collision (between any two or all of them) if they start walking on the sides of the triangle? Assume\n",
    "that each ant randomly picks a direction, with either direction being equally likely to be chosen, and\n",
    "that they walk at the same speed.\n",
    "\n",
    "Similarly, find the probability of collision with n ants on an n-vertex polygon.\n"
   ]
  },
  {
   "cell_type": "markdown",
   "metadata": {},
   "source": [
    "The ants will collide unless they all pick the same direction to walk\n",
    "\n",
    "* The probability that they all pick clockwise is (0.5)(0.5)(0.5)\n",
    "* The probability that they all pick counter-clockwise is (0.5)(0.5)(0.5)\n",
    "\n",
    "Therefore the odds of avoiding a collision of 25%\n",
    "\n",
    "To generalize to a n-polygon, the odds are $2p^n$\n",
    "\n",
    "(the odds of a collision are 1 minus this probability)"
   ]
  },
  {
   "cell_type": "markdown",
   "metadata": {},
   "source": [
    "**6.5 Jugs of Water:** You have a five-quart jug, a three-quart jug, and an unlimited supply of water (but\n",
    "no measuring cups). How would you come up with exactly four quarts of water? Note that the jugs\n",
    "are oddly shaped, such that filling up exactly \"half\" of the jug would be impossible.\n"
   ]
  },
  {
   "cell_type": "markdown",
   "metadata": {},
   "source": [
    "1. Fill 5qt, pour into 3qt. This leaves 2qt in the 5qt jug.\n",
    "2. Empty 3qt, fill it with 2qt\n",
    "3. Fill 5qt, pour into 3qt until full. The 3qt only has 1qt of space, so the 5 qt will now contain 4qt water"
   ]
  },
  {
   "cell_type": "markdown",
   "metadata": {},
   "source": [
    "**6.6 Blue-Eyed Island:** A bunch of people are living on an island, when a visitor comes with a strange\n",
    "order: all blue-eyed people must leave the island as soon as possible. There will be a flight out at\n",
    "8:00 pm every evening. Each person can see everyone else's eye color, but they do not know their\n",
    "own (nor is anyone allowed to tell them). Additionally, they do not know how many people have\n",
    "blue eyes, although they do know that at least one person does. How many days will it take the\n",
    "blue-eyed people to leave?\n"
   ]
  },
  {
   "cell_type": "code",
   "execution_count": null,
   "metadata": {},
   "outputs": [],
   "source": []
  },
  {
   "cell_type": "markdown",
   "metadata": {},
   "source": []
  }
 ],
 "metadata": {
  "kernelspec": {
   "display_name": "Python 3",
   "language": "python",
   "name": "python3"
  },
  "language_info": {
   "codemirror_mode": {
    "name": "ipython",
    "version": 3
   },
   "file_extension": ".py",
   "mimetype": "text/x-python",
   "name": "python",
   "nbconvert_exporter": "python",
   "pygments_lexer": "ipython3",
   "version": "3.7.3"
  }
 },
 "nbformat": 4,
 "nbformat_minor": 4
}
