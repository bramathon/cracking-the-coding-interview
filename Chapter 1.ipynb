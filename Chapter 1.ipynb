{
 "cells": [
  {
   "cell_type": "markdown",
   "metadata": {},
   "source": [
    "## Chapter 1: Arrays and Strings\n",
    "This notebook contains my answers the questions in 'Cracking the Coding Interview'"
   ]
  },
  {
   "cell_type": "markdown",
   "metadata": {},
   "source": [
    "1.1 Implement an algorithm to determine if a string has all unique characters. What if you cannot use additional data structures?"
   ]
  },
  {
   "cell_type": "code",
   "execution_count": 28,
   "metadata": {},
   "outputs": [
    {
     "data": {
      "text/plain": [
       "'a'"
      ]
     },
     "execution_count": 28,
     "metadata": {},
     "output_type": "execute_result"
    }
   ],
   "source": [
    "my_string = \"abcdef\"\n",
    "my_string_2 = \"abcdabcd\"\n",
    "\n",
    "def unique_char_p (string,seen_char=\"\"):\n",
    "    if string == \"\":\n",
    "        return True\n",
    "    else:\n",
    "        if string[0] in seen_char:\n",
    "            return string[0]\n",
    "        else:\n",
    "            return unique_char_p(string[1:],seen_char + string[0])\n",
    "        \n",
    "unique_char_p(my_string)\n",
    "\n",
    "unique_char_p(my_string_2)"
   ]
  },
  {
   "cell_type": "markdown",
   "metadata": {},
   "source": [
    "1.2 Implement a function void reverse(char* str) in C or C++ which reverses a null-terminated string"
   ]
  },
  {
   "cell_type": "markdown",
   "metadata": {},
   "source": [
    "1.3 Given two strings, write a method to decide if one is a permutation of the other"
   ]
  },
  {
   "cell_type": "code",
   "execution_count": 41,
   "metadata": {},
   "outputs": [
    {
     "data": {
      "text/plain": [
       "False"
      ]
     },
     "execution_count": 41,
     "metadata": {},
     "output_type": "execute_result"
    }
   ],
   "source": [
    "s1 = \"abc\"\n",
    "s2 = \"cab\"\n",
    "s3 = \"def\"\n",
    "\n",
    "def isPermutation (s1,s2):\n",
    "    # first check if the strings are the same length\n",
    "    if len(s1) != len(s2):\n",
    "        return False\n",
    "    else:\n",
    "        # permutations means that the chars will appear the same number of times\n",
    "        # will need to check every char to ensure they are perm, but only need to find one bad char to know they aren't\n",
    "        s1_kv = {}\n",
    "        for char in s1:\n",
    "            if char in s1_kv:\n",
    "                s1_kv[char] = s1_kv[char] + 1\n",
    "            else:\n",
    "                s1_kv[char] = 1\n",
    "        s2_kv = {}\n",
    "        for char in s2:\n",
    "            # if s2 has a character that s1 never saw, then we are done\n",
    "            if char not in s1_kv:\n",
    "                return False\n",
    "            # otherwise, continue the counting\n",
    "            else:\n",
    "                if char in s2_kv:\n",
    "                    s2_kv[char] = s2_kv[char] + 1\n",
    "                else:\n",
    "                    s2_kv[char] = 1\n",
    "                if s2_kv[char] > s1_kv[char]:\n",
    "                    # if we count more of a character in s2 than in s1, we are done\n",
    "                    return False\n",
    "        # no need to check the counts. If it met the conditions so far, should be good.\n",
    "        return True\n",
    "    \n",
    "isPermutation(s1,s3)"
   ]
  },
  {
   "cell_type": "markdown",
   "metadata": {},
   "source": [
    "1.4 Write a method to replace all spaces in a string wiht '%20'"
   ]
  },
  {
   "cell_type": "markdown",
   "metadata": {},
   "source": [
    "1.5 Implement a method to perform basic string compression using the counts of repeated characters. For example, the string aabccccccaaa would become a2b1c5a3. If the compressed string would not become smaller than the original string, your method should return the original string."
   ]
  },
  {
   "cell_type": "code",
   "execution_count": 52,
   "metadata": {},
   "outputs": [
    {
     "data": {
      "text/plain": [
       "'abcdeefg'"
      ]
     },
     "execution_count": 52,
     "metadata": {},
     "output_type": "execute_result"
    }
   ],
   "source": [
    "s1 = \"aabcccccaaa\"\n",
    "s2 = \"abcdeefg\"\n",
    "\n",
    "def compress (string):\n",
    "    current_char = string[0]\n",
    "    n = 1\n",
    "    compressed_string = \"\"\n",
    "    for c in string[1:]:\n",
    "        if c == current_char:\n",
    "            n = n + 1\n",
    "        else:\n",
    "            compressed_string = compressed_string + current_char + str(n)\n",
    "            n = 1\n",
    "            current_char = c\n",
    "    compressed_string = compressed_string + current_char + str(n)\n",
    "    if len(compressed_string) > len(string):\n",
    "        return string\n",
    "    else:\n",
    "        return compressed_string\n",
    "\n",
    "compress(s1)\n",
    "compress(s2)"
   ]
  },
  {
   "cell_type": "markdown",
   "metadata": {},
   "source": [
    "1.6 Given an image represented by an NxN matrix, where each pixel in the image is 4 bytes, write a method to rotate the image by 90 degrees. Can you do this in place?"
   ]
  },
  {
   "cell_type": "markdown",
   "metadata": {},
   "source": [
    "1.7 Write an algorithm such that if an element in an MxN matrix is 0, it's entire row and column are set to 0."
   ]
  },
  {
   "cell_type": "markdown",
   "metadata": {},
   "source": [
    "1.8 Assume your have a method isSubstring which checks if one word is a substring of another. Given two strings, s1 and s2, write code to check if s2 is a rotation of s1 using only one call to isSubstring (eg., \"waterbottle\" is a rotation of \"erbottlewat\")."
   ]
  },
  {
   "cell_type": "code",
   "execution_count": 58,
   "metadata": {},
   "outputs": [
    {
     "data": {
      "text/plain": [
       "True"
      ]
     },
     "execution_count": 58,
     "metadata": {},
     "output_type": "execute_result"
    }
   ],
   "source": [
    "s1 = \"waterbottle\"\n",
    "s2 = \"erbottlewat\"\n",
    "\n",
    "# This is the isSubstring\n",
    "\"ab\" in \"cab\"\n",
    "\n",
    "# check lengths are the same\n",
    "s1s1 = s1 + s1\n",
    "s2 in s1s1"
   ]
  },
  {
   "cell_type": "code",
   "execution_count": null,
   "metadata": {},
   "outputs": [],
   "source": []
  }
 ],
 "metadata": {
  "kernelspec": {
   "display_name": "Python 3",
   "language": "python",
   "name": "python3"
  },
  "language_info": {
   "codemirror_mode": {
    "name": "ipython",
    "version": 3
   },
   "file_extension": ".py",
   "mimetype": "text/x-python",
   "name": "python",
   "nbconvert_exporter": "python",
   "pygments_lexer": "ipython3",
   "version": "3.7.3"
  }
 },
 "nbformat": 4,
 "nbformat_minor": 4
}
