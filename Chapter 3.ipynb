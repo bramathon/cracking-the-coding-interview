{
 "cells": [
  {
   "cell_type": "markdown",
   "metadata": {},
   "source": [
    "## Chapter 3: Stacks and Queues"
   ]
  },
  {
   "cell_type": "markdown",
   "metadata": {},
   "source": [
    "3.1 Describe how you could use a single array to implement three stacks"
   ]
  },
  {
   "cell_type": "code",
   "execution_count": 26,
   "metadata": {},
   "outputs": [
    {
     "data": {
      "text/plain": [
       "['b', 'a', 1]"
      ]
     },
     "execution_count": 26,
     "metadata": {},
     "output_type": "execute_result"
    }
   ],
   "source": [
    "# Make a big array. Assign a third of the array to each stack.\n",
    "import numpy as np\n",
    "\n",
    "n = 100\n",
    "\n",
    "stack_a = [0,n]\n",
    "stack_b = [n+1,2*n]\n",
    "stack_c = [2*n+1,3*n]\n",
    "\n",
    "my_array = np.full(3*n,None)\n",
    "\n",
    "top_boys = [0,0,0]\n",
    "\n",
    "def push (stack_num,element):\n",
    "    assert stack_num in [0,1,2]\n",
    "    # check there is space\n",
    "    if top_boys[stack_num] >= n*(stack_num+1):\n",
    "        raise Exception(\"Stack is full\")\n",
    "    \n",
    "    top_boys[stack_num] = top_boys[stack_num] + 1\n",
    "    my_array[top_boys[stack_num]] = element\n",
    "    \n",
    "def pop (stack_num):\n",
    "    assert stack_num in [0,1,2]\n",
    "    \n",
    "    idx = top_boys[stack_num]\n",
    "    \n",
    "    if idx == stack_num*n:\n",
    "        return None\n",
    "    element = my_array[idx]\n",
    "    top_boys[stack_num] = idx - 1\n",
    "                         \n",
    "    return element\n",
    "    \n",
    "push(0,1)\n",
    "push(0,\"a\")\n",
    "push(0,\"b\")\n",
    "[pop(0),pop(0),pop(0)]\n",
    "\n",
    "# The simple solution is not too efficient with its use of memory. Another way is to use flexible division\n",
    "# This means that we keep track of the size of each stack and it's startng index.\n",
    "# Would require a lot of shuffling data around to keep stack contiguous, could just keep track of all indexes in the stack, but then we have stacks on stacks..."
   ]
  },
  {
   "cell_type": "markdown",
   "metadata": {},
   "source": [
    "3.2 How would you design a stack which, in addition to push and pop, also has a function min which returns the minimum element? Push, pop and min should operate in O(1) time."
   ]
  },
  {
   "cell_type": "code",
   "execution_count": 27,
   "metadata": {},
   "outputs": [],
   "source": [
    "# iterate through the list and return the smallest element? No this is O(n)!\n",
    "\n",
    "# The real answer is to keep track of the minimum every time a new element is pushed onto the stack."
   ]
  },
  {
   "cell_type": "markdown",
   "metadata": {},
   "source": [
    "3.3 Imagine a (literal) stack of plates. If the stack gets too high, it mgiht topple. Therefore, in real life, we would likely start a new stack whent he previous stack exceeds some threshold. Implement a data structure SetofStacks that mimucs this. SetOfStacks should be composed of several stacks and should create a new stack once the previous one exceeds capacity. SetOfStacks.push() and SetOfStacks.pop() should behave identically to a single stack (that is, pop() should return the same values as it would if there were just a single stack).\n",
    "\n",
    "FOLLOW UP\n",
    "\n",
    "Implement a function popAt(int index) which performs a pop operation on a specific sub-stack."
   ]
  },
  {
   "cell_type": "markdown",
   "metadata": {},
   "source": [
    "3.4 In the classic problem of Towers of Hanoi, you have 3 towers and N disks of different sizes which can slide onto any tower. The puzzle starts with disks sorted in ascending order of size from top to bottom (i.e., each disk sits on top of an even larger one). You have the following contraints:\n",
    "\n",
    "1. Only one disk can be moved at a time.\n",
    "2. A disk is slid off the top of one tower onto the next tower.\n",
    "3. A disk can only be placed on top of a larger disk.\n",
    "\n",
    "Write a program to move the disks from the first tower to the last using stacks"
   ]
  },
  {
   "cell_type": "markdown",
   "metadata": {},
   "source": [
    "3.5 Implement a MyQueue class which implements a queue using two stacks"
   ]
  },
  {
   "cell_type": "markdown",
   "metadata": {},
   "source": [
    "3.6 Write a program to sort a stack in ascending order (with biggest items on top). You may use additional stacks to hold items, but you may not copy the elements into any other data structure (such as an array). The stack supports the following operations: push, pop, peek, and isEmpty"
   ]
  },
  {
   "cell_type": "markdown",
   "metadata": {},
   "source": [
    "3.7 An animal shelter holds only dogs and carts, and operates on a strictly \"first in, first out\" basis. People must adopt either the \"oldest\" (based on arrival time) of all animals int eh shelter, or they can select whether they would prefer a dog or cat (and will recieve the oldest animal of that type). They cannot select which specific animal they would like. Create the data structures to maintain this system and implement operations such an enqueue, dequeueAny , dequeueDog and dequeueCat. You mayb use the builton LinkedList data structure."
   ]
  },
  {
   "cell_type": "code",
   "execution_count": null,
   "metadata": {},
   "outputs": [],
   "source": []
  }
 ],
 "metadata": {
  "kernelspec": {
   "display_name": "Python 3",
   "language": "python",
   "name": "python3"
  },
  "language_info": {
   "codemirror_mode": {
    "name": "ipython",
    "version": 3
   },
   "file_extension": ".py",
   "mimetype": "text/x-python",
   "name": "python",
   "nbconvert_exporter": "python",
   "pygments_lexer": "ipython3",
   "version": "3.7.3"
  }
 },
 "nbformat": 4,
 "nbformat_minor": 4
}
