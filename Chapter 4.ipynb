{
 "cells": [
  {
   "cell_type": "markdown",
   "metadata": {},
   "source": [
    "## Chapter 4: Trees and Graphs\n",
    "Using 6th edition for this one. Would prefer to do this in lisp since it's much more natural"
   ]
  },
  {
   "cell_type": "code",
   "execution_count": 2,
   "metadata": {},
   "outputs": [],
   "source": [
    "class Node():\n",
    "    def __init__(self,data,adjacency_list=None):\n",
    "        self.data = data\n",
    "        self.adjacency_list = adjacency_list or []\n",
    "        self.shortest_path = None\n",
    "    \n",
    "    def add_edge_to(self,node):\n",
    "        self.adjacency_list += [node]\n",
    "        \n",
    "    def __str__(self):\n",
    "        return self.data"
   ]
  },
  {
   "cell_type": "markdown",
   "metadata": {},
   "source": [
    "**4.1: Route Between Nodes:** Given a directed graph, design an algorithm to find out whether there is a\n",
    "route between two nodes.\n"
   ]
  },
  {
   "cell_type": "code",
   "execution_count": 1,
   "metadata": {},
   "outputs": [],
   "source": []
  },
  {
   "cell_type": "markdown",
   "metadata": {},
   "source": [
    "**4.2 Minimal Tree:** Given a sorted (increasing order) array with unique integer elements, write an algorithm to create a binary search tree with minimal height."
   ]
  },
  {
   "cell_type": "code",
   "execution_count": null,
   "metadata": {},
   "outputs": [],
   "source": []
  },
  {
   "cell_type": "markdown",
   "metadata": {},
   "source": [
    "**4.3 List of Depths:** Given a binary tree, design an algorithm which creates a linked list of all the nodes at each depth (e.g., if you have a tree with depth D, you'll have D linked lists).\n"
   ]
  },
  {
   "cell_type": "code",
   "execution_count": null,
   "metadata": {},
   "outputs": [],
   "source": []
  },
  {
   "cell_type": "markdown",
   "metadata": {},
   "source": [
    "**4.4 Check Balanced:** Implement a function to check if a binary tree is balanced. For the purposes of\n",
    "this question, a balanced tree is defined to be a tree such that the heights of the two subtrees of any\n",
    "node never differ by more than one."
   ]
  },
  {
   "cell_type": "code",
   "execution_count": null,
   "metadata": {},
   "outputs": [],
   "source": []
  },
  {
   "cell_type": "markdown",
   "metadata": {},
   "source": [
    "**4.5 Validate BST:** Implement a function to check if a binary tree is a binary search tree.\n"
   ]
  },
  {
   "cell_type": "code",
   "execution_count": null,
   "metadata": {},
   "outputs": [],
   "source": []
  },
  {
   "cell_type": "markdown",
   "metadata": {},
   "source": [
    "**4.6 Successor:** Write an algorithm to find the \"next\" node (i.e., in-order successor) of a given node in a\n",
    "binary search tree. You may assume that each node has a link to its parent.\n"
   ]
  },
  {
   "cell_type": "code",
   "execution_count": null,
   "metadata": {},
   "outputs": [],
   "source": []
  },
  {
   "cell_type": "markdown",
   "metadata": {},
   "source": [
    "**4.7 Build Order:** You are given a list of projects and a list of dependencies (which is a list of pairs of\n",
    "projects, where the second project is dependent on the first project). All of a project's dependencies\n",
    "must be built before the project is. Find a build order that will allow the projects to be built. If there\n",
    "is no valid build order, return an error.\n",
    "\n",
    "EXAMPLE\n",
    "\n",
    "Input:\n",
    "\n",
    "projects: a, b, c, d, e, f\n",
    "\n",
    "dependencies: (a, d), (f, b), (b, d), (f, a), (d, c)\n",
    "\n",
    "Output: f, e, a, b, d, c\n"
   ]
  },
  {
   "cell_type": "code",
   "execution_count": null,
   "metadata": {},
   "outputs": [],
   "source": []
  },
  {
   "cell_type": "markdown",
   "metadata": {},
   "source": [
    "**4.8 First Common Ancestor:** Design an algorithm and write code to find the first common ancestor\n",
    "of two nodes in a binary tree. Avoid storing additional nodes in a data structure. NOTE: This is not\n",
    "necessarily a binary search tree.\n"
   ]
  },
  {
   "cell_type": "code",
   "execution_count": null,
   "metadata": {},
   "outputs": [],
   "source": []
  },
  {
   "cell_type": "markdown",
   "metadata": {},
   "source": [
    "**4.9 BST Sequences:** A binary search tree was created by traversing through an array from left to right\n",
    "and inserting each element. Given a binary search tree with distinct elements, print all possible\n",
    "arrays that could have led to this tree.\n",
    "\n",
    "EXAMPLE\n",
    "\n",
    "Input:\n",
    "\n",
    "![alt text](4.8.png \"Title\")\n",
    "\n",
    "Output: {2, 1, 3}, {2, 3, 1}"
   ]
  },
  {
   "cell_type": "code",
   "execution_count": null,
   "metadata": {},
   "outputs": [],
   "source": []
  },
  {
   "cell_type": "markdown",
   "metadata": {},
   "source": [
    "**4.10 Check Subtree:** Tl and T2 are two very large binary trees, with Tl much bigger than T2. Create an\n",
    "algorithm to determine if T2 is a subtree of Tl.\n",
    "A tree T2 is a subtree of Tl if there exists a node n in Tl such that the subtree of n is identical to T2.\n",
    "That is, if you cut off the tree at node n, the two trees would be identical.\n"
   ]
  },
  {
   "cell_type": "code",
   "execution_count": null,
   "metadata": {},
   "outputs": [],
   "source": []
  },
  {
   "cell_type": "markdown",
   "metadata": {},
   "source": [
    "**4.11 Random Node:** You are implementing a binary tree class from scratch which, in addition to\n",
    "insert, find, and delete, has a method getRandomNode() which returns a random node\n",
    "from the tree. All nodes should be equally likely to be chosen. Design and implement an algorithm\n",
    "for getRandomNode, and explain how you would implement the rest of the methods.\n"
   ]
  },
  {
   "cell_type": "code",
   "execution_count": null,
   "metadata": {},
   "outputs": [],
   "source": []
  },
  {
   "cell_type": "markdown",
   "metadata": {},
   "source": [
    "**4.12 Paths with Sum:** You are given a binary tree in which each node contains an integer value (which\n",
    "might be positive or negative). Design an algorithm to count the number of paths that sum to a\n",
    "given value. The path does not need to start or end at the root or a leaf, but it must go downwards\n",
    "(traveling only from parent nodes to child nodes).\n"
   ]
  },
  {
   "cell_type": "code",
   "execution_count": null,
   "metadata": {},
   "outputs": [],
   "source": []
  }
 ],
 "metadata": {
  "kernelspec": {
   "display_name": "Python 3",
   "language": "python",
   "name": "python3"
  },
  "language_info": {
   "codemirror_mode": {
    "name": "ipython",
    "version": 3
   },
   "file_extension": ".py",
   "mimetype": "text/x-python",
   "name": "python",
   "nbconvert_exporter": "python",
   "pygments_lexer": "ipython3",
   "version": "3.7.3"
  }
 },
 "nbformat": 4,
 "nbformat_minor": 4
}
